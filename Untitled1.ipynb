{
  "nbformat": 4,
  "nbformat_minor": 0,
  "metadata": {
    "colab": {
      "provenance": [],
      "authorship_tag": "ABX9TyPb8WcyLhi8dR+P36/hEWbf",
      "include_colab_link": true
    },
    "kernelspec": {
      "name": "python3",
      "display_name": "Python 3"
    },
    "language_info": {
      "name": "python"
    }
  },
  "cells": [
    {
      "cell_type": "markdown",
      "metadata": {
        "id": "view-in-github",
        "colab_type": "text"
      },
      "source": [
        "<a href=\"https://colab.research.google.com/github/tulasijavadeveloper/My-/blob/main/Untitled1.ipynb\" target=\"_parent\"><img src=\"https://colab.research.google.com/assets/colab-badge.svg\" alt=\"Open In Colab\"/></a>"
      ]
    },
    {
      "cell_type": "code",
      "execution_count": 1,
      "metadata": {
        "colab": {
          "base_uri": "https://localhost:8080/"
        },
        "id": "XwIaMgiR-Jsp",
        "outputId": "dac9445e-32cc-438f-8ba3-a5fabefeb36c"
      },
      "outputs": [
        {
          "output_type": "stream",
          "name": "stdout",
          "text": [
            "Collecting package-name\n",
            "  Downloading package_name-0.1.tar.gz (782 bytes)\n",
            "  Preparing metadata (setup.py) ... \u001b[?25l\u001b[?25hdone\n",
            "Building wheels for collected packages: package-name\n",
            "  Building wheel for package-name (setup.py) ... \u001b[?25l\u001b[?25hdone\n",
            "  Created wheel for package-name: filename=package_name-0.1-py3-none-any.whl size=1232 sha256=bb5fa98d0bd30d300b615ff079e2e63def81bb76fd4d0b08f42fb0c1cea9ef82\n",
            "  Stored in directory: /root/.cache/pip/wheels/a3/36/c4/98d928f30290fb88555f848f73093f02b67c984a45c56c3e97\n",
            "Successfully built package-name\n",
            "Installing collected packages: package-name\n",
            "Successfully installed package-name-0.1\n"
          ]
        }
      ],
      "source": [
        "!pip install package-name"
      ]
    },
    {
      "cell_type": "code",
      "source": [
        "print(\"hello tulasi\")"
      ],
      "metadata": {
        "colab": {
          "base_uri": "https://localhost:8080/"
        },
        "id": "RpRMdVFJ-M2h",
        "outputId": "7044e47c-6e7f-45bd-890e-d5050de08ecd"
      },
      "execution_count": 2,
      "outputs": [
        {
          "output_type": "stream",
          "name": "stdout",
          "text": [
            "hello tulasi\n"
          ]
        }
      ]
    }
  ]
}